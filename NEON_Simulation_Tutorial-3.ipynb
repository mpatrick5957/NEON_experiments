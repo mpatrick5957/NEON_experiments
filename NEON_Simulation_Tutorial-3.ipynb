{
 "cells": [
  {
   "cell_type": "markdown",
   "metadata": {},
   "source": [
    "# Tutorial 1: CTSM Simulations at NEON Tower Sites \n",
    "\n",
    "This tutorial is an introduction to running the Community Terrestrial Systems Model (CTSM) at NEON tower sites.  It will guide you through running a simulation and provides example visualization of the simulation results. Once you complete a NEON tower simulation in this tutorial, you can use the 'NEON_Visualization_Tutorial' to explore observation and model data further.\n",
    "<br><br>\n",
    "\n",
    "**A few notes about the model:** There are several configuration options of CTSM, and throughout this tutorial we will use the Community Land Model (CLM) configuration which is the climate and biogeochemistry mode of CTSM. Throughout the rest of this tutorial, we refer to the model as CLM and will use version 5.1 with active biogeochemistry (CLM5.1-BGC).\n",
    "\n",
    "Additional information about CTSM and CLM is available [on the website](https://www.cesm.ucar.edu/models/cesm2/land/), including [technical documentation](https://escomp.github.io/ctsm-docs/versions/master/html/tech_note/index.html), a [user's guide](https://escomp.github.io/ctsm-docs/versions/master/html/users_guide/index.html), and a [quickstart guide](https://escomp.github.io/CESM/release-cesm2/quickstart.html#create-a-case) for running various model configurations beyond what is covered in this tutorial.\n",
    "<br><br>\n",
    "\n",
    "**Questions about this tutorial?** Please post them on the [CTSM forum in the CESM Bulletin Board](https://bb.cgd.ucar.edu/cesm/forums/ctsm-clm-mosart-rtm.134/). Note that this resource will require you to register and log in so that you can be notified of responses to your inquiries. You can also file issues on the [NCAR-NEON GitHub repository](https://github.com/NCAR/NEON-visualization).\n",
    "***"
   ]
  },
  {
   "cell_type": "markdown",
   "metadata": {},
   "source": [
    "## In this tutorial\n",
    "\n",
    "The tutorial has several components. Below you will find steps to: \n",
    "1. Set up and run a simulation\n",
    "2. Locate CLM model data\n",
    "3. Look at plots of simulated soil temperature and moisture data"
   ]
  },
  {
   "cell_type": "markdown",
   "metadata": {},
   "source": [
    "***\n",
    "**This tutorial uses a Jupyter Notebook.** A Jupyter Notebook is an interactive computing environment that enables the creation and sharing of documents that contain discrete cells of text or documentation and executable code, including plots. It allows users to access, run, and edit the code in a browser. To interact with this notebook:\n",
    "\n",
    "- Execute or \"run\" cells of executable code (cells denoted with '[ ]:') using the play button in the menu at the top (see below image)\n",
    "\n",
    "- The results of running code, such as plots, will appear below that cell\n",
    "\n",
    "- Each step must be followed in order, otherwise you may encounter errors\n",
    "\n",
    "![run cell](https://problemsolvingwithpython.com/02-Jupyter-Notebooks/images/run_cell.png)\n",
    "\n",
    "For more information on Jupyter notebooks please see the [Jupyter Notebook Quick Start Guide](https://jupyter-notebook-beginner-guide.readthedocs.io/en/latest/what_is_jupyter.html). \n",
    "***"
   ]
  },
  {
   "cell_type": "markdown",
   "metadata": {},
   "source": [
    "<h2> 1. Set up and run a simulation</h2>\n",
    "\n",
    "*This step guides you through running a CLM model simulation for a NEON flux tower using meteorology observations from the tower. Here, the many steps to run CLM are condensed into a single function. We are developing an additional advanced tutorial (coming soon!) with instructions for using different model configurations and modifying code.* <br>\n",
    "\n",
    "***\n",
    "<h4>1.1 Select a NEON tower site to simulate.</h4>\n",
    "\n",
    "NEON towers currently available for simulation include:  \n",
    "\n",
    ">ABBY, BART, BLAN, CPER, DCFS, DSNY, GRSM, HARV, JERC, JORN, KONZ, MOAB, NOGP, OAES, ORNL, OSBS, SCBI, SERC, SOAP, SRER, STEI, TALL, TREE, UKFS, UNDE, WOOD.  \n",
    "\n",
    "The [NEON website](https://www.neonscience.org/field-sites/explore-field-sites) describes tower sites in more detail.\n",
    "\n",
    "Before running the below code, keep in mind:\n",
    "- The executable code below selects the **ABBY** site for simulation. If you would like to simulate a different tower, select the NEON tower from the above list and change the 4-character site name inside the quotes below.\n",
    "- The site must be defined correctly so you do not get an error in the next step.\n",
    "    - use all capital letters \n",
    "    - double-check that the letters match one of the above site names\n",
    "\n",
    "*Execute the the cell below by clicking on the play button in the menu bar above.*"
   ]
  },
  {
   "cell_type": "code",
   "execution_count": 1,
   "metadata": {},
   "outputs": [],
   "source": [
    "#Change the 4-character NEON site below.\n",
    "neon_site= \"BART\"\n",
    "\n",
    "import os\n",
    "os.environ['site'] = neon_site"
   ]
  },
  {
   "cell_type": "code",
   "execution_count": null,
   "metadata": {},
   "outputs": [],
   "source": []
  },
  {
   "cell_type": "code",
   "execution_count": 2,
   "metadata": {},
   "outputs": [
    {
     "name": "stdout",
     "output_type": "stream",
     "text": [
      "/opt/ncar/cesm/tools/site_and_regional/run_neon.py:535: SyntaxWarning: \"is not\" with a literal. Did you mean \"!=\"?\n",
      "  if run_type is not \"transient\":\n",
      "usage: run_neon.py [-h] [-d] [-v] [-s]\n",
      "                   [--neon-sites {ABBY,BARR,BART,BLAN,BONA,CLBJ,CPER,DCFS,DEJU,DELA,DSNY,FATES,GRSM,GUAN,HARV,HEAL,JERC,JORN,KONA,KONZ,LAJA,LENO,MLBS,MOAB,NIWO,NOGP,OAES,ONAQ,ORNL,OSBS,PUUM,RMNP,SCBI,SERC,SJER,SOAP,SRER,STEI,STER,TALL,TEAK,TOOL,TREE,UKFS,UNDE,WOOD,WREF,YELL,all} [{ABBY,BARR,BART,BLAN,BONA,CLBJ,CPER,DCFS,DEJU,DELA,DSNY,FATES,GRSM,GUAN,HARV,HEAL,JERC,JORN,KONA,KONZ,LAJA,LENO,MLBS,MOAB,NIWO,NOGP,OAES,ONAQ,ORNL,OSBS,PUUM,RMNP,SCBI,SERC,SJER,SOAP,SRER,STEI,STER,TALL,TEAK,TOOL,TREE,UKFS,UNDE,WOOD,WREF,YELL,all} ...]]\n",
      "                   [--base-case BASE_CASE_ROOT] [--output-root OUTPUT_ROOT]\n",
      "                   [--overwrite] [--setup-only] [--rerun] [--no-batch]\n",
      "                   [--run-type {ad,postad,transient,sasu}]\n",
      "                   [--run-length RUN_LENGTH] [--start-date START_DATE]\n",
      "                   [--end-date END_DATE] [--run-from-postad]\n",
      "                   [--neon-version {v1,v2}]\n",
      "\n",
      "|------------------------------------------------------------------|\n",
      "|---------------------  Instructions  -----------------------------|\n",
      "|------------------------------------------------------------------|\n",
      "This is a wrapper script for running CTSM simulation for one or more\n",
      "neon sites. \n",
      "\n",
      "This script is only for neon site and we will develop a more general\n",
      "code later.\n",
      "\n",
      "This script first creates and builds a generic base case. \n",
      "Next, it will clone the base_case for different neon sites and run\n",
      "types to reduce the need to build ctsm everytime. \n",
      "\n",
      "This script will do the following:\n",
      "    1) Create a generic base case for cloning. \n",
      "    2) Make the case for the specific neon site(s).\n",
      "    3) Make changes to the case, for:\n",
      "        a. AD spinup\n",
      "\tb. post-AD spinup\n",
      "        c. transient\n",
      "    \t#---------------\n",
      "    \td. SASU or Matrix spinup\n",
      "    4) Build and submit the case.\n",
      " \n",
      "-------------------------------------------------------------------\n",
      "Instructions for running using conda python environments:\n",
      "\n",
      "../../py_env_create\n",
      "conda activate ctsm_py\n",
      " \n",
      "-------------------------------------------------------------------\n",
      "To see the available options:\n",
      "    ./run_neon.py --help\n",
      "-------------------------------------------------------------------\n",
      "\n",
      "options:\n",
      "  -h, --help            show this help message and exit\n",
      "  -d, --debug           Print debug information (very verbose) to file\n",
      "                        /home/user/experiments/run_neon.py.log\n",
      "  -v, --verbose         Add additional context (time and file) to log messages\n",
      "  -s, --silent          Print only warnings and error messages\n",
      "  --neon-sites {ABBY,BARR,BART,BLAN,BONA,CLBJ,CPER,DCFS,DEJU,DELA,DSNY,FATES,GRSM,GUAN,HARV,HEAL,JERC,JORN,KONA,KONZ,LAJA,LENO,MLBS,MOAB,NIWO,NOGP,OAES,ONAQ,ORNL,OSBS,PUUM,RMNP,SCBI,SERC,SJER,SOAP,SRER,STEI,STER,TALL,TEAK,TOOL,TREE,UKFS,UNDE,WOOD,WREF,YELL,all} [{ABBY,BARR,BART,BLAN,BONA,CLBJ,CPER,DCFS,DEJU,DELA,DSNY,FATES,GRSM,GUAN,HARV,HEAL,JERC,JORN,KONA,KONZ,LAJA,LENO,MLBS,MOAB,NIWO,NOGP,OAES,ONAQ,ORNL,OSBS,PUUM,RMNP,SCBI,SERC,SJER,SOAP,SRER,STEI,STER,TALL,TEAK,TOOL,TREE,UKFS,UNDE,WOOD,WREF,YELL,all} ...]\n",
      "                        4-letter neon site code.\n",
      "  --base-case BASE_CASE_ROOT\n",
      "                        Root Directory of base case build [default: None]\n",
      "  --output-root OUTPUT_ROOT\n",
      "                        Root output directory of cases [default:\n",
      "                        CIME_OUTPUT_ROOT as defined in cime]\n",
      "  --overwrite           overwrite existing case directories [default: False]\n",
      "  --setup-only          Only setup the requested cases, do not build or run\n",
      "                        [default: False]\n",
      "  --rerun               If the case exists but does not appear to be complete,\n",
      "                        restart it. [default: False]\n",
      "  --no-batch            Run locally, do not use batch queueing system (if\n",
      "                        defined for Machine) [default: False]\n",
      "  --run-type {ad,postad,transient,sasu}\n",
      "                        Type of run to do [default: transient]\n",
      "  --run-length RUN_LENGTH\n",
      "                        How long to run (modified ISO 8601 duration) [default:\n",
      "                        0Y]\n",
      "  --start-date START_DATE\n",
      "                        Start date for running CTSM simulation in ISO format.\n",
      "                        [default: 2018-01-01 00:00:00] (currently non-\n",
      "                        functional)\n",
      "  --end-date END_DATE   End date for running CTSM simulation in ISO format.\n",
      "                        [default: 2021-01-01 00:00:00]\n",
      "  --run-from-postad     For transient runs only - should we start from the\n",
      "                        postad spinup or finidat? By default start from\n",
      "                        finidat, if this flag is used the postad run must be\n",
      "                        available.\n",
      "  --neon-version {v1,v2}\n",
      "                        Neon data version to use for this simulation.\n",
      "                        [default: use the latest data available]\n"
     ]
    }
   ],
   "source": [
    "run_neon --help"
   ]
  },
  {
   "cell_type": "markdown",
   "metadata": {},
   "source": [
    "***\n",
    "<h4>1.2 Create and run a NEON tower site simulation.</h4>  \n",
    "\n",
    "The executable code below runs a python script, `run_neon.py`. This script:\n",
    "\n",
    "* creates (`create_newcase`)\n",
    "* sets up (`case.setup`)\n",
    "* compiles (`case.build`)\n",
    "* runs (`case.submit`)\n",
    "    \n",
    "a simulation for the tower site you specified above for all years that tower meteorology data are available. The text in parentheses show the commands that are typically required to set up and run a simulation. These steps are automated for you in the `run_neon` script.\n",
    "\n",
    "*Run the cell below.* Note that this step downloads the input data (~2.5GB) required for the model simulation and may therefore take several minutes to complete running, so please be patient. Many things will print below the cell as data are downloaded and the model compiles. You might see lines that say 'ERROR' or 'file not found'; this is ok if the simulation continues running to completion.\n",
    "\n"
   ]
  },
  {
   "cell_type": "markdown",
   "metadata": {
    "tags": []
   },
   "source": [
    "# AHA! We're going to make our own modified run_neon script! muahahahahaa\n",
    "\n",
    "... Actually we're just going to modify the run_neon script that ships with this, because sadly I can't figure out how to point this notebook to the modified .py file, nor can I even get Jupyter to open that .py file... but the system knows about it, so we'll just do some fancy copying. "
   ]
  },
  {
   "cell_type": "code",
   "execution_count": 3,
   "metadata": {},
   "outputs": [
    {
     "name": "stdout",
     "output_type": "stream",
     "text": [
      "total 148K\n",
      "-rwxr-xr-x 1 user cesm 1.1K Feb  6  2023 \u001b[0m\u001b[01;32msubset_data\u001b[0m*\n",
      "-rwxr-xr-x 1 user cesm 5.8K Feb  6  2023 \u001b[01;32mneon_surf_wrapper.py\u001b[0m*\n",
      "-rw-r--r-- 1 user cesm 2.2K Feb  6  2023 neon_sites_dompft.csv\n",
      "-rwxr-xr-x 1 user cesm 6.4K Feb  6  2023 \u001b[01;32mneon_gcs_upload\u001b[0m*\n",
      "-rwxr-xr-x 1 user cesm  22K Feb  6  2023 \u001b[01;32mmodify_singlept_site_neon.py\u001b[0m*\n",
      "-rw-r--r-- 1 user cesm 5.2K Feb  6  2023 mkunitymap.ncl\n",
      "-rwxr-xr-x 1 user cesm 8.9K Feb  6  2023 \u001b[01;32mmknoocnmap.pl\u001b[0m*\n",
      "-rw-r--r-- 1 user cesm  958 Feb  6  2023 default_data.cfg\n",
      "-rw-r--r-- 1 user cesm 1.8K Feb  6  2023 README\n",
      "drwxr-xr-x 1 user cesm 4.0K Feb  6  2023 \u001b[01;34m..\u001b[0m/\n",
      "drwxr-xr-x 1 user cesm 4.0K Mar 25 19:27 \u001b[01;34m.\u001b[0m/\n",
      "-rwxr-xr-x 1 user cesm  27K Mar 25 19:29 \u001b[01;32mrun_neon.py\u001b[0m*\n",
      "-rwxr-xr-x 1 user cesm  27K Mar 25 19:29 \u001b[01;32mrun_neon_original.py_donotuse\u001b[0m*\n"
     ]
    }
   ],
   "source": [
    "ls -larth /opt/ncar/cesm/tools/site_and_regional/"
   ]
  },
  {
   "cell_type": "code",
   "execution_count": 4,
   "metadata": {},
   "outputs": [],
   "source": [
    "neon_py_original = '/opt/ncar/cesm/tools/site_and_regional/run_neon.py'"
   ]
  },
  {
   "cell_type": "code",
   "execution_count": 5,
   "metadata": {},
   "outputs": [],
   "source": [
    "# shutil.copy2(neon_py_original, '/opt/ncar/cesm/tools/site_and_regional/run_neon_original.py_donotuse')"
   ]
  },
  {
   "cell_type": "code",
   "execution_count": 6,
   "metadata": {},
   "outputs": [],
   "source": [
    "import shutil"
   ]
  },
  {
   "cell_type": "code",
   "execution_count": 7,
   "metadata": {},
   "outputs": [
    {
     "name": "stdout",
     "output_type": "stream",
     "text": [
      "copy run_neon to the experiments/scripts folder\n"
     ]
    }
   ],
   "source": [
    "neon_py_original = '/opt/ncar/cesm/tools/site_and_regional/run_neon.py'\n",
    "neon_py_ours = '/home/user/experiments/run_neon_mod.py'\n",
    "\n",
    "shutil.copy2(neon_py_original, '/opt/ncar/cesm/tools/site_and_regional/run_neon_original.py_donotuse')\n",
    "shutil.copy2(neon_py_original, neon_py_ours)\n",
    "print('copy run_neon to the experiments/scripts folder')\n"
   ]
  },
  {
   "cell_type": "markdown",
   "metadata": {},
   "source": [
    "### Replace fincl in run_neon.py with the following:\n",
    "\n",
    "Original:  \n",
    "\n",
    " \"hist_fincl1 = 'TOTECOSYSC', 'TOTECOSYSN', 'TOTSOMC', 'TOTSOMN', 'TOTVEGC', 'TOTVEGN', 'TLAI', 'GPP', 'CPOOL', 'NPP', 'TWS', 'H2OSNO', \",\n",
    " \n",
    "\n",
    "Replace with:  \n",
    " \n",
    "  \"hist_fincl1 = 'TOTECOSYSC', 'TOTECOSYSN', 'TOTSOMC', 'TOTSOMN', 'TOTVEGC', 'TOTVEGN', 'TLAI', 'GPP', 'CPOOL', 'NPP', 'TWS', 'H2OSNO', 'EFLX_LH_TOT', 'EFLX_SOIL_GRND','FGEV','FSDS','FLDS' \","
   ]
  },
  {
   "cell_type": "code",
   "execution_count": 8,
   "metadata": {},
   "outputs": [
    {
     "data": {
      "text/plain": [
       "'/opt/ncar/cesm/tools/site_and_regional/run_neon.py'"
      ]
     },
     "execution_count": 8,
     "metadata": {},
     "output_type": "execute_result"
    }
   ],
   "source": [
    "# Now copy back after adding latent heat flux and some other things...\n",
    "shutil.copy2(neon_py_ours, neon_py_original )"
   ]
  },
  {
   "cell_type": "markdown",
   "metadata": {},
   "source": [
    "### have to fix permissions on the run_neon.py file:\n",
    "Needs to have rwxr-xr-x permissions\n",
    "\n",
    "So do, in the terminal:  \n",
    "\n",
    "chmod 755 /opt/ncar/cesm/tools/site_and_regional/run_neon.py"
   ]
  },
  {
   "cell_type": "code",
   "execution_count": 9,
   "metadata": {},
   "outputs": [],
   "source": [
    "# try and modify the run_neon script ... we could modify the actual original one, but it'd be nice if we had our own... \n",
    "\n",
    "# import sys\n",
    "# sys.path.append(\"/home/user/experiments/scripts/\")\n",
    "\n",
    "# import run_neon_mod"
   ]
  },
  {
   "cell_type": "markdown",
   "metadata": {},
   "source": [
    "### our modifications:\n",
    "copy the \"original\" BART land surface dataset to the file that run_neon is going to try to use, or copy the \"grass\" version. "
   ]
  },
  {
   "cell_type": "code",
   "execution_count": 10,
   "metadata": {},
   "outputs": [],
   "source": [
    "grass = False\n",
    "tree = True\n"
   ]
  },
  {
   "cell_type": "code",
   "execution_count": 11,
   "metadata": {},
   "outputs": [
    {
     "name": "stdout",
     "output_type": "stream",
     "text": [
      "copy tree surface file to the surface file it actually looks for\n"
     ]
    }
   ],
   "source": [
    "\n",
    "import shutil\n",
    "\n",
    "\n",
    "\n",
    "src_grass = '/home/user/inputdata/lnd/clm2/surfdata_map/NEON/surfdata_1x1_NEON_BART_hist_78pfts_CMIP6_simyr2000_c230111_grass.nc'\n",
    "src_tree = '/home/user/inputdata/lnd/clm2/surfdata_map/NEON/surfdata_1x1_NEON_BART_hist_78pfts_CMIP6_simyr2000_c230111_tree.nc'\n",
    "\n",
    "dst = '/home/user/inputdata/lnd/clm2/surfdata_map/NEON/surfdata_1x1_NEON_BART_hist_78pfts_CMIP6_simyr2000_c230111.nc'\n",
    "\n",
    "if grass:\n",
    "    shutil.copy2(src_grass, dst)\n",
    "    print('copy grass surface file to the surface file it actually looks for')\n",
    "elif tree:\n",
    "    shutil.copy2(src_tree, dst)\n",
    "    print('copy tree surface file to the surface file it actually looks for')\n",
    "\n"
   ]
  },
  {
   "cell_type": "code",
   "execution_count": null,
   "metadata": {},
   "outputs": [],
   "source": []
  },
  {
   "cell_type": "code",
   "execution_count": 12,
   "metadata": {},
   "outputs": [
    {
     "name": "stdout",
     "output_type": "stream",
     "text": [
      "total 612K\n",
      "-rw-rw-r-- 1 user cesm  52K Jan 24  2023 surfdata_1x1_NEON_TALL_hist_78pfts_CMIP6_simyr2000_c230111.nc\n",
      "drwxr-xr-x 1 user cesm  512 Jan  9 01:36 \u001b[0m\u001b[01;34m..\u001b[0m/\n",
      "drwxr-xr-x 1 user cesm  512 Feb  9 21:35 \u001b[01;34m.ipynb_checkpoints\u001b[0m/\n",
      "-rw-r--r-- 1 user cesm 140K Mar 25 19:40 surfdata_1x1_NEON_BART_hist_78pfts_CMIP6_simyr2000_c230111.nc\n",
      "-rw-r--r-- 1 user cesm 140K Mar 25 19:40 surfdata_1x1_NEON_BART_hist_78pfts_CMIP6_simyr2000_c230111_original.nc\n",
      "-rw-r--r-- 1 user cesm 140K Mar 25 19:40 surfdata_1x1_NEON_BART_hist_78pfts_CMIP6_simyr2000_c230111_tree.nc\n",
      "-rw-r--r-- 1 user cesm 140K Mar 25 19:41 surfdata_1x1_NEON_BART_hist_78pfts_CMIP6_simyr2000_c230111_grass.nc\n",
      "drwxr-xr-x 1 user cesm  512 Mar 25 19:55 \u001b[01;34m.\u001b[0m/\n"
     ]
    }
   ],
   "source": [
    "ls -larth /home/user/inputdata/lnd/clm2/surfdata_map/NEON/"
   ]
  },
  {
   "cell_type": "code",
   "execution_count": 13,
   "metadata": {},
   "outputs": [
    {
     "name": "stdout",
     "output_type": "stream",
     "text": [
      "/opt/ncar/cesm/tools/site_and_regional/run_neon.py:535: SyntaxWarning: \"is not\" with a literal. Did you mean \"!=\"?\n",
      "  if run_type is not \"transient\":\n",
      "---- building a base case -------\n",
      "Removing the existing case at: /home/user/CLM-NEON/BART\n",
      "---- creating a base case -------\n",
      "---- base case created ------\n",
      "---- base case setup ------\n",
      "---- base case build ------\n",
      "WARNING: No .input_data_list files found in dir 'Buildconf'\n",
      "Time required to building the base case: 442.14276814460754 s.\n",
      "using this version: latest\n",
      "---- removing the existing case -------\n",
      "---- cloning the base case in /home/user/CLM-NEON/BART.transient\n",
      "Model ctsm missing file finidat = '/home/user/inputdata/lnd/clm2/initdata_map/clmi.I2000Clm50BgcCrop.2011-01-01.1.9x2.5_gx1v7_gl4_simyr2000_c190312.nc'\n",
      "wget failed with output:  and errput --2024-03-25 22:10:59--  https://storage.neonscience.org/neon-ncar/NEON/lnd/clm2/initdata_map/clmi.I2000Clm50BgcCrop.2011-01-01.1.9x2.5_gx1v7_gl4_simyr2000_c190312.nc\n",
      "Resolving storage.neonscience.org (storage.neonscience.org)... 34.110.164.243\n",
      "Connecting to storage.neonscience.org (storage.neonscience.org)|34.110.164.243|:443... connected.\n",
      "HTTP request sent, awaiting response... 301 Moved Permanently\n",
      "Location: https://storage.googleapis.com/neon-ncar/NEON/lnd/clm2/initdata_map/clmi.I2000Clm50BgcCrop.2011-01-01.1.9x2.5_gx1v7_gl4_simyr2000_c190312.nc [following]\n",
      "--2024-03-25 22:10:59--  https://storage.googleapis.com/neon-ncar/NEON/lnd/clm2/initdata_map/clmi.I2000Clm50BgcCrop.2011-01-01.1.9x2.5_gx1v7_gl4_simyr2000_c190312.nc\n",
      "Resolving storage.googleapis.com (storage.googleapis.com)... 172.217.12.27, 142.250.65.123, 172.217.15.251, ...\n",
      "Connecting to storage.googleapis.com (storage.googleapis.com)|172.217.12.27|:443... connected.\n",
      "HTTP request sent, awaiting response... 404 Not Found\n",
      "2024-03-25 22:11:00 ERROR 404: Not Found.\n",
      "\n",
      "varname datafiles is already in stream mod dictionary\n",
      "varname year_first is already in stream mod dictionary\n",
      "varname year_last is already in stream mod dictionary\n",
      "varname year_align is already in stream mod dictionary\n",
      "varname dtlimit is already in stream mod dictionary\n",
      "varname datafiles is already in stream mod dictionary\n",
      "varname year_first is already in stream mod dictionary\n",
      "varname year_last is already in stream mod dictionary\n",
      "varname year_align is already in stream mod dictionary\n",
      "varname dtlimit is already in stream mod dictionary\n",
      "varname year_first is already in stream mod dictionary\n",
      "varname year_last is already in stream mod dictionary\n",
      "varname year_align is already in stream mod dictionary\n",
      "varname dtlimit is already in stream mod dictionary\n",
      "Model ctsm missing file finidat = '/home/user/CLM-NEON/BART.transient/run/inputdata/lnd/ctsm/initdata/BART.2022-11-11.clm2.r.0418-01-01-00000.nc'\n",
      "Model datm missing file file1 = '/home/user/CLM-NEON/BART.transient/run/inputdata/atm/cdeps/v2/BART/BART_atm_2018-01.nc'\n",
      "Model datm missing file file2 = '/home/user/CLM-NEON/BART.transient/run/inputdata/atm/cdeps/v2/BART/BART_atm_2018-02.nc'\n",
      "Model datm missing file file3 = '/home/user/CLM-NEON/BART.transient/run/inputdata/atm/cdeps/v2/BART/BART_atm_2018-03.nc'\n",
      "Model datm missing file file4 = '/home/user/CLM-NEON/BART.transient/run/inputdata/atm/cdeps/v2/BART/BART_atm_2018-04.nc'\n",
      "Model datm missing file file5 = '/home/user/CLM-NEON/BART.transient/run/inputdata/atm/cdeps/v2/BART/BART_atm_2018-05.nc'\n",
      "Model datm missing file file6 = '/home/user/CLM-NEON/BART.transient/run/inputdata/atm/cdeps/v2/BART/BART_atm_2018-06.nc'\n",
      "Model datm missing file file7 = '/home/user/CLM-NEON/BART.transient/run/inputdata/atm/cdeps/v2/BART/BART_atm_2018-07.nc'\n",
      "Model datm missing file file8 = '/home/user/CLM-NEON/BART.transient/run/inputdata/atm/cdeps/v2/BART/BART_atm_2018-08.nc'\n",
      "Model datm missing file file9 = '/home/user/CLM-NEON/BART.transient/run/inputdata/atm/cdeps/v2/BART/BART_atm_2018-09.nc'\n",
      "Model datm missing file file10 = '/home/user/CLM-NEON/BART.transient/run/inputdata/atm/cdeps/v2/BART/BART_atm_2018-10.nc'\n",
      "Model datm missing file file11 = '/home/user/CLM-NEON/BART.transient/run/inputdata/atm/cdeps/v2/BART/BART_atm_2018-11.nc'\n",
      "Model datm missing file file12 = '/home/user/CLM-NEON/BART.transient/run/inputdata/atm/cdeps/v2/BART/BART_atm_2018-12.nc'\n",
      "Model datm missing file file13 = '/home/user/CLM-NEON/BART.transient/run/inputdata/atm/cdeps/v2/BART/BART_atm_2019-01.nc'\n",
      "Model datm missing file file14 = '/home/user/CLM-NEON/BART.transient/run/inputdata/atm/cdeps/v2/BART/BART_atm_2019-02.nc'\n",
      "Model datm missing file file15 = '/home/user/CLM-NEON/BART.transient/run/inputdata/atm/cdeps/v2/BART/BART_atm_2019-03.nc'\n",
      "Model datm missing file file16 = '/home/user/CLM-NEON/BART.transient/run/inputdata/atm/cdeps/v2/BART/BART_atm_2019-04.nc'\n",
      "Model datm missing file file17 = '/home/user/CLM-NEON/BART.transient/run/inputdata/atm/cdeps/v2/BART/BART_atm_2019-05.nc'\n",
      "Model datm missing file file18 = '/home/user/CLM-NEON/BART.transient/run/inputdata/atm/cdeps/v2/BART/BART_atm_2019-06.nc'\n",
      "Model datm missing file file19 = '/home/user/CLM-NEON/BART.transient/run/inputdata/atm/cdeps/v2/BART/BART_atm_2019-07.nc'\n",
      "Model datm missing file file20 = '/home/user/CLM-NEON/BART.transient/run/inputdata/atm/cdeps/v2/BART/BART_atm_2019-08.nc'\n",
      "Model datm missing file file21 = '/home/user/CLM-NEON/BART.transient/run/inputdata/atm/cdeps/v2/BART/BART_atm_2019-09.nc'\n",
      "Model datm missing file file22 = '/home/user/CLM-NEON/BART.transient/run/inputdata/atm/cdeps/v2/BART/BART_atm_2019-10.nc'\n",
      "Model datm missing file file23 = '/home/user/CLM-NEON/BART.transient/run/inputdata/atm/cdeps/v2/BART/BART_atm_2019-11.nc'\n",
      "Model datm missing file file24 = '/home/user/CLM-NEON/BART.transient/run/inputdata/atm/cdeps/v2/BART/BART_atm_2019-12.nc'\n",
      "Model datm missing file file25 = '/home/user/CLM-NEON/BART.transient/run/inputdata/atm/cdeps/v2/BART/BART_atm_2020-01.nc'\n",
      "Model datm missing file file26 = '/home/user/CLM-NEON/BART.transient/run/inputdata/atm/cdeps/v2/BART/BART_atm_2020-02.nc'\n",
      "Model datm missing file file27 = '/home/user/CLM-NEON/BART.transient/run/inputdata/atm/cdeps/v2/BART/BART_atm_2020-03.nc'\n",
      "Model datm missing file file28 = '/home/user/CLM-NEON/BART.transient/run/inputdata/atm/cdeps/v2/BART/BART_atm_2020-04.nc'\n",
      "Model datm missing file file29 = '/home/user/CLM-NEON/BART.transient/run/inputdata/atm/cdeps/v2/BART/BART_atm_2020-05.nc'\n",
      "Model datm missing file file30 = '/home/user/CLM-NEON/BART.transient/run/inputdata/atm/cdeps/v2/BART/BART_atm_2020-06.nc'\n",
      "Model datm missing file file31 = '/home/user/CLM-NEON/BART.transient/run/inputdata/atm/cdeps/v2/BART/BART_atm_2020-07.nc'\n",
      "Model datm missing file file32 = '/home/user/CLM-NEON/BART.transient/run/inputdata/atm/cdeps/v2/BART/BART_atm_2020-08.nc'\n",
      "Model datm missing file file33 = '/home/user/CLM-NEON/BART.transient/run/inputdata/atm/cdeps/v2/BART/BART_atm_2020-09.nc'\n",
      "Model datm missing file file34 = '/home/user/CLM-NEON/BART.transient/run/inputdata/atm/cdeps/v2/BART/BART_atm_2020-10.nc'\n",
      "Model datm missing file file35 = '/home/user/CLM-NEON/BART.transient/run/inputdata/atm/cdeps/v2/BART/BART_atm_2020-11.nc'\n",
      "Model datm missing file file36 = '/home/user/CLM-NEON/BART.transient/run/inputdata/atm/cdeps/v2/BART/BART_atm_2020-12.nc'\n",
      "Model datm missing file file37 = '/home/user/CLM-NEON/BART.transient/run/inputdata/atm/cdeps/v2/BART/BART_atm_2021-01.nc'\n",
      "Model datm missing file file38 = '/home/user/CLM-NEON/BART.transient/run/inputdata/atm/cdeps/v2/BART/BART_atm_2021-02.nc'\n",
      "Model datm missing file file39 = '/home/user/CLM-NEON/BART.transient/run/inputdata/atm/cdeps/v2/BART/BART_atm_2021-03.nc'\n",
      "Model datm missing file file40 = '/home/user/CLM-NEON/BART.transient/run/inputdata/atm/cdeps/v2/BART/BART_atm_2021-04.nc'\n",
      "Model datm missing file file41 = '/home/user/CLM-NEON/BART.transient/run/inputdata/atm/cdeps/v2/BART/BART_atm_2021-05.nc'\n",
      "Model datm missing file file42 = '/home/user/CLM-NEON/BART.transient/run/inputdata/atm/cdeps/v2/BART/BART_atm_2021-06.nc'\n",
      "Model datm missing file file43 = '/home/user/CLM-NEON/BART.transient/run/inputdata/atm/cdeps/v2/BART/BART_atm_2021-07.nc'\n",
      "Model datm missing file file44 = '/home/user/CLM-NEON/BART.transient/run/inputdata/atm/cdeps/v2/BART/BART_atm_2021-08.nc'\n",
      "Model datm missing file file45 = '/home/user/CLM-NEON/BART.transient/run/inputdata/atm/cdeps/v2/BART/BART_atm_2021-09.nc'\n",
      "Model datm missing file file46 = '/home/user/CLM-NEON/BART.transient/run/inputdata/atm/cdeps/v2/BART/BART_atm_2021-10.nc'\n",
      "Model datm missing file file47 = '/home/user/CLM-NEON/BART.transient/run/inputdata/atm/cdeps/v2/BART/BART_atm_2021-11.nc'\n",
      "Model datm missing file file48 = '/home/user/CLM-NEON/BART.transient/run/inputdata/atm/cdeps/v2/BART/BART_atm_2021-12.nc'\n",
      "Model datm missing file file49 = '/home/user/CLM-NEON/BART.transient/run/inputdata/atm/cdeps/v2/BART/BART_atm_2022-01.nc'\n",
      "Model datm missing file file50 = '/home/user/CLM-NEON/BART.transient/run/inputdata/atm/cdeps/v2/BART/BART_atm_2022-02.nc'\n",
      "Model datm missing file file51 = '/home/user/CLM-NEON/BART.transient/run/inputdata/atm/cdeps/v2/BART/BART_atm_2022-03.nc'\n",
      "Model datm missing file file52 = '/home/user/CLM-NEON/BART.transient/run/inputdata/atm/cdeps/v2/BART/BART_atm_2022-04.nc'\n",
      "varname datafiles is already in stream mod dictionary\n",
      "varname year_first is already in stream mod dictionary\n",
      "varname year_last is already in stream mod dictionary\n",
      "varname year_align is already in stream mod dictionary\n",
      "varname dtlimit is already in stream mod dictionary\n",
      "varname datafiles is already in stream mod dictionary\n",
      "varname year_first is already in stream mod dictionary\n",
      "varname year_last is already in stream mod dictionary\n",
      "varname year_align is already in stream mod dictionary\n",
      "varname dtlimit is already in stream mod dictionary\n",
      "varname year_first is already in stream mod dictionary\n",
      "varname year_last is already in stream mod dictionary\n",
      "varname year_align is already in stream mod dictionary\n",
      "varname dtlimit is already in stream mod dictionary\n",
      "submit_jobs case.run\n",
      "Submit job case.run\n",
      "varname datafiles is already in stream mod dictionary\n",
      "varname year_first is already in stream mod dictionary\n",
      "varname year_last is already in stream mod dictionary\n",
      "varname year_align is already in stream mod dictionary\n",
      "varname dtlimit is already in stream mod dictionary\n",
      "varname datafiles is already in stream mod dictionary\n",
      "varname year_first is already in stream mod dictionary\n",
      "varname year_last is already in stream mod dictionary\n",
      "varname year_align is already in stream mod dictionary\n",
      "varname dtlimit is already in stream mod dictionary\n",
      "varname year_first is already in stream mod dictionary\n",
      "varname year_last is already in stream mod dictionary\n",
      "varname year_align is already in stream mod dictionary\n",
      "varname dtlimit is already in stream mod dictionary\n",
      "No timing file found in run directory\n",
      "check for resubmit\n",
      "dout_s True \n",
      "mach container \n",
      "resubmit_num 0\n",
      "Submit job case.st_archive\n"
     ]
    }
   ],
   "source": [
    "run_neon --neon-sites $site --output-root ~/CLM-NEON  --overwrite "
   ]
  },
  {
   "cell_type": "markdown",
   "metadata": {},
   "source": [
    "### If this was a modified run (grass vs tree), copy folder from archive to folder with useful name\n"
   ]
  },
  {
   "cell_type": "code",
   "execution_count": 14,
   "metadata": {},
   "outputs": [
    {
     "name": "stdout",
     "output_type": "stream",
     "text": [
      "copy output to a special tree output at /home/user/archive/BART_tree/\n"
     ]
    }
   ],
   "source": [
    "\n",
    "src = '/home/user/archive/BART.transient'\n",
    "\n",
    "dst_grass = '/home/user/archive/BART_grass/'\n",
    "dst_tree = '/home/user/archive/BART_tree/'\n",
    "\n",
    "if grass:\n",
    "    if os.path.exists(dst_grass):\n",
    "        print('warning: this folder already existing, and now has been deleted.')\n",
    "        shutil.rmtree(dst_grass)\n",
    "    shutil.copytree(src, dst_grass)\n",
    "    print('copy output to a special grass output at %s'%dst_grass)\n",
    "    \n",
    "elif tree:\n",
    "    if os.path.exists(dst_tree):\n",
    "        print('warning: this folder already existing, and now has been deleted.')\n",
    "        shutil.rmtree(dst_tree)\n",
    "    shutil.copytree(src, dst_tree)\n",
    "    print('copy output to a special tree output at %s'%dst_tree)\n",
    "\n",
    "\n",
    "\n"
   ]
  },
  {
   "cell_type": "code",
   "execution_count": null,
   "metadata": {},
   "outputs": [],
   "source": []
  },
  {
   "cell_type": "markdown",
   "metadata": {},
   "source": [
    "<br><br>\n",
    "The model is done running when you see the following line: \n",
    "\n",
    "\n",
    "> Submit job case.st_archive \n",
    "\n",
    "\n",
    "### Congratulations! You've created and run CLM for the NEON tower you selected.\n",
    "Follow the steps below to see a few example plots from simulated data. \n",
    "\n",
    "**Note:** If your model simulation did not complete, there will likely be an error message with more information. If you do not understand the error message, please post your question on the [CTSM forum in the CESM Bulletin Board](https://bb.cgd.ucar.edu/cesm/forums/ctsm-clm-mosart-rtm.134/).\n"
   ]
  },
  {
   "cell_type": "markdown",
   "metadata": {},
   "source": [
    "***\n",
    "<h4> Optional </h4>\n",
    "\n",
    "If you would like to see additional and more advanced options for running NEON tower site simulations, many are listed in the python script you just executed. You can use the `--help` option to see more. <p>\n",
    "\n",
    "*Executing the below cell is optional and will print options available options in the `run_neon` python script*:"
   ]
  },
  {
   "cell_type": "code",
   "execution_count": 15,
   "metadata": {},
   "outputs": [
    {
     "name": "stdout",
     "output_type": "stream",
     "text": [
      "/opt/ncar/cesm/tools/site_and_regional/run_neon.py:535: SyntaxWarning: \"is not\" with a literal. Did you mean \"!=\"?\n",
      "  if run_type is not \"transient\":\n",
      "usage: run_neon.py [-h] [-d] [-v] [-s]\n",
      "                   [--neon-sites {ABBY,BARR,BART,BLAN,BONA,CLBJ,CPER,DCFS,DEJU,DELA,DSNY,FATES,GRSM,GUAN,HARV,HEAL,JERC,JORN,KONA,KONZ,LAJA,LENO,MLBS,MOAB,NIWO,NOGP,OAES,ONAQ,ORNL,OSBS,PUUM,RMNP,SCBI,SERC,SJER,SOAP,SRER,STEI,STER,TALL,TEAK,TOOL,TREE,UKFS,UNDE,WOOD,WREF,YELL,all} [{ABBY,BARR,BART,BLAN,BONA,CLBJ,CPER,DCFS,DEJU,DELA,DSNY,FATES,GRSM,GUAN,HARV,HEAL,JERC,JORN,KONA,KONZ,LAJA,LENO,MLBS,MOAB,NIWO,NOGP,OAES,ONAQ,ORNL,OSBS,PUUM,RMNP,SCBI,SERC,SJER,SOAP,SRER,STEI,STER,TALL,TEAK,TOOL,TREE,UKFS,UNDE,WOOD,WREF,YELL,all} ...]]\n",
      "                   [--base-case BASE_CASE_ROOT] [--output-root OUTPUT_ROOT]\n",
      "                   [--overwrite] [--setup-only] [--rerun] [--no-batch]\n",
      "                   [--run-type {ad,postad,transient,sasu}]\n",
      "                   [--run-length RUN_LENGTH] [--start-date START_DATE]\n",
      "                   [--end-date END_DATE] [--run-from-postad]\n",
      "                   [--neon-version {v1,v2}]\n",
      "\n",
      "|------------------------------------------------------------------|\n",
      "|---------------------  Instructions  -----------------------------|\n",
      "|------------------------------------------------------------------|\n",
      "This is a wrapper script for running CTSM simulation for one or more\n",
      "neon sites. \n",
      "\n",
      "This script is only for neon site and we will develop a more general\n",
      "code later.\n",
      "\n",
      "This script first creates and builds a generic base case. \n",
      "Next, it will clone the base_case for different neon sites and run\n",
      "types to reduce the need to build ctsm everytime. \n",
      "\n",
      "This script will do the following:\n",
      "    1) Create a generic base case for cloning. \n",
      "    2) Make the case for the specific neon site(s).\n",
      "    3) Make changes to the case, for:\n",
      "        a. AD spinup\n",
      "\tb. post-AD spinup\n",
      "        c. transient\n",
      "    \t#---------------\n",
      "    \td. SASU or Matrix spinup\n",
      "    4) Build and submit the case.\n",
      " \n",
      "-------------------------------------------------------------------\n",
      "Instructions for running using conda python environments:\n",
      "\n",
      "../../py_env_create\n",
      "conda activate ctsm_py\n",
      " \n",
      "-------------------------------------------------------------------\n",
      "To see the available options:\n",
      "    ./run_neon.py --help\n",
      "-------------------------------------------------------------------\n",
      "\n",
      "options:\n",
      "  -h, --help            show this help message and exit\n",
      "  -d, --debug           Print debug information (very verbose) to file\n",
      "                        /home/user/experiments/run_neon.py.log\n",
      "  -v, --verbose         Add additional context (time and file) to log messages\n",
      "  -s, --silent          Print only warnings and error messages\n",
      "  --neon-sites {ABBY,BARR,BART,BLAN,BONA,CLBJ,CPER,DCFS,DEJU,DELA,DSNY,FATES,GRSM,GUAN,HARV,HEAL,JERC,JORN,KONA,KONZ,LAJA,LENO,MLBS,MOAB,NIWO,NOGP,OAES,ONAQ,ORNL,OSBS,PUUM,RMNP,SCBI,SERC,SJER,SOAP,SRER,STEI,STER,TALL,TEAK,TOOL,TREE,UKFS,UNDE,WOOD,WREF,YELL,all} [{ABBY,BARR,BART,BLAN,BONA,CLBJ,CPER,DCFS,DEJU,DELA,DSNY,FATES,GRSM,GUAN,HARV,HEAL,JERC,JORN,KONA,KONZ,LAJA,LENO,MLBS,MOAB,NIWO,NOGP,OAES,ONAQ,ORNL,OSBS,PUUM,RMNP,SCBI,SERC,SJER,SOAP,SRER,STEI,STER,TALL,TEAK,TOOL,TREE,UKFS,UNDE,WOOD,WREF,YELL,all} ...]\n",
      "                        4-letter neon site code.\n",
      "  --base-case BASE_CASE_ROOT\n",
      "                        Root Directory of base case build [default: None]\n",
      "  --output-root OUTPUT_ROOT\n",
      "                        Root output directory of cases [default:\n",
      "                        CIME_OUTPUT_ROOT as defined in cime]\n",
      "  --overwrite           overwrite existing case directories [default: False]\n",
      "  --setup-only          Only setup the requested cases, do not build or run\n",
      "                        [default: False]\n",
      "  --rerun               If the case exists but does not appear to be complete,\n",
      "                        restart it. [default: False]\n",
      "  --no-batch            Run locally, do not use batch queueing system (if\n",
      "                        defined for Machine) [default: False]\n",
      "  --run-type {ad,postad,transient,sasu}\n",
      "                        Type of run to do [default: transient]\n",
      "  --run-length RUN_LENGTH\n",
      "                        How long to run (modified ISO 8601 duration) [default:\n",
      "                        0Y]\n",
      "  --start-date START_DATE\n",
      "                        Start date for running CTSM simulation in ISO format.\n",
      "                        [default: 2018-01-01 00:00:00] (currently non-\n",
      "                        functional)\n",
      "  --end-date END_DATE   End date for running CTSM simulation in ISO format.\n",
      "                        [default: 2021-01-01 00:00:00]\n",
      "  --run-from-postad     For transient runs only - should we start from the\n",
      "                        postad spinup or finidat? By default start from\n",
      "                        finidat, if this flag is used the postad run must be\n",
      "                        available.\n",
      "  --neon-version {v1,v2}\n",
      "                        Neon data version to use for this simulation.\n",
      "                        [default: use the latest data available]\n"
     ]
    }
   ],
   "source": [
    "run_neon --help"
   ]
  },
  {
   "cell_type": "markdown",
   "metadata": {},
   "source": [
    "------------\n",
    "\n",
    "#### Below are a few additional tips for running simulations: \n",
    "\n",
    " __Tip:__ You can run multiple neon sites at once by choosing multiple neon sites in the command line argument. For example:\n",
    ">\n",
    ">```\n",
    ">run_neon.py --neon-sites ABBY BART BLAN\n",
    ">```\n",
    "\n",
    "<br/>\n",
    "\n",
    " __Tip:__ Use the `--overwrite` option to overwrite existing case directories.\n",
    ">\n",
    ">If you run a simulation for a NEON site that you have previously simulated, you will see the following error:\n",
    ">```\n",
    ">Case already exists in /home/user/CLM-NEON/ABBY.transient, not overwritting.\n",
    ">```\n",
    ">The overwrite option (e.g., adding `--overwrite` to the end of the `run_neon` command) can be used to avoid this error. \n",
    "\n",
    "<br/>\n",
    "\n",
    " __Tip:__ You can run the above `run_neon` command in your terminal shell. You will need to specify the NEON site and the output-root path by replacing `<site>` and `<path>` below with the appropriate values:\n",
    "\n",
    ">```\n",
    ">run_neon.py --neon-sites <site> --output-root <path>\n",
    ">```\n",
    "\n",
    "<br/>\n",
    "    \n",
    " __Tip:__ The container will not overwrite existing files. If there are newer versions of a tutorial or input data you want to download, you must delete the existing tutorials or data first. You can do this by moving the files from the `Simulations` folder on your Desktop into the trash.\n",
    "    \n",
    "<br/>\n",
    "    \n",
    "**Note:** More information about setting up and modifying simulations, including changing model code, will be available in an upcoming tutorial. \n"
   ]
  },
  {
   "cell_type": "markdown",
   "metadata": {},
   "source": [
    "________\n",
    "<h2> 2. Explore CTSM model data </h2>\n",
    "\n",
    "*When your simulation completes, this step guides you through exploring the data.\n",
    "There are countless ways of analyzing and processing model data. \n",
    "The below steps step through where to find model data and creates a plot to visualize some model data.*\n",
    "***"
   ]
  },
  {
   "cell_type": "markdown",
   "metadata": {},
   "source": [
    "<h3> 2.1 Locate model data </h3>\n",
    "\n",
    "When a simulation completes, the data are stored in the `archive` directory. In this directory you will find files that include data for every day of the simulation, as well as files that average model variables monthly. <p>\n",
    "\n",
    "*Run the code below to see a subset of the files listed.*"
   ]
  },
  {
   "cell_type": "code",
   "execution_count": 16,
   "metadata": {},
   "outputs": [
    {
     "name": "stdout",
     "output_type": "stream",
     "text": [
      "/home/user/archive/BART.transient/lnd/hist/BART.transient.clm2.h0.2018-01.nc\n",
      "/home/user/archive/BART.transient/lnd/hist/BART.transient.clm2.h0.2018-02.nc\n",
      "/home/user/archive/BART.transient/lnd/hist/BART.transient.clm2.h0.2018-03.nc\n",
      "/home/user/archive/BART.transient/lnd/hist/BART.transient.clm2.h0.2018-04.nc\n",
      "/home/user/archive/BART.transient/lnd/hist/BART.transient.clm2.h0.2018-05.nc\n",
      "/home/user/archive/BART.transient/lnd/hist/BART.transient.clm2.h0.2018-06.nc\n",
      "/home/user/archive/BART.transient/lnd/hist/BART.transient.clm2.h0.2018-07.nc\n",
      "/home/user/archive/BART.transient/lnd/hist/BART.transient.clm2.h0.2018-08.nc\n",
      "/home/user/archive/BART.transient/lnd/hist/BART.transient.clm2.h0.2018-09.nc\n",
      "/home/user/archive/BART.transient/lnd/hist/BART.transient.clm2.h0.2018-10.nc\n",
      "/home/user/archive/BART.transient/lnd/hist/BART.transient.clm2.h0.2018-11.nc\n",
      "/home/user/archive/BART.transient/lnd/hist/BART.transient.clm2.h0.2018-12.nc\n",
      "/home/user/archive/BART.transient/lnd/hist/BART.transient.clm2.h1.2018-01-01-00000.nc\n",
      "/home/user/archive/BART.transient/lnd/hist/BART.transient.clm2.h1.2018-01-02-00000.nc\n",
      "/home/user/archive/BART.transient/lnd/hist/BART.transient.clm2.h1.2018-01-03-00000.nc\n",
      "/home/user/archive/BART.transient/lnd/hist/BART.transient.clm2.h1.2018-01-04-00000.nc\n",
      "/home/user/archive/BART.transient/lnd/hist/BART.transient.clm2.h1.2018-01-05-00000.nc\n",
      "/home/user/archive/BART.transient/lnd/hist/BART.transient.clm2.h1.2018-01-06-00000.nc\n",
      "/home/user/archive/BART.transient/lnd/hist/BART.transient.clm2.h1.2018-01-07-00000.nc\n",
      "/home/user/archive/BART.transient/lnd/hist/BART.transient.clm2.h1.2018-01-08-00000.nc\n",
      "ls: write error: Broken pipe\n"
     ]
    }
   ],
   "source": [
    "!ls $HOME/archive/$site.transient/lnd/hist/*2018*.nc |head -20"
   ]
  },
  {
   "cell_type": "markdown",
   "metadata": {},
   "source": [
    "\n",
    "Notice that each line includes the location of the file (`/home/user/archive/{simulation_name}/lnd/hist/`) and file name. The file names are automatically generated and are composed of:\n",
    "* the simulation name, which includes:\n",
    "    * the NEON site\n",
    "    * the type of simulation \n",
    "        * The simulation you ran is \"transient\". This means the model was initialized and ran for the full length of available data. The initial conditions files for the transient tower simulations were created by cycling over 2018-2019 tower meteorological data. \n",
    "* the date of simulated data\n",
    "\n",
    "The files are saved in netcdf format (denoted with the `.nc` file extension), a file format commonly used for storing large, multi-dimensional scientific variables.\n",
    "Netcdf files are platform independent and self-describing; each file includes metadata that describes the data, including: **variables**, **dimensions**, and **attributes**. You can explore the files more in the NEON_Simple_Visualization_Tutorial\n",
    "\n",
    "The NEON tower simulations generate two types of files:\n",
    "* `*h0*`: Variables that are averaged monthly. One file is available for every month of the simulation. These files include hundreds of variables.\n",
    "* `*h1*`: Variables that are recorded every 30 minutes. Values are aggregated into one file for each day of the simulation. Each file includes 48 data points for selected variables.\n",
    "\n",
    "*Note that you can also find the model data in the 'Simulation' folder on your desktop, which was created as part of this tutorial.*\n",
    "****\n"
   ]
  },
  {
   "cell_type": "markdown",
   "metadata": {},
   "source": [
    "<h3>2.2 Visualize the output </h3>\n",
    "\n",
    "Below we create a plot of simulated soil temperature using a predefined function, `plot_soil_profile_timeseries`.\n",
    "\n",
    "\n",
    "The `plot_soil_profile_timeseries` function points to the simulated data files in your `archive` directory, extracts a variable (soil temperature, `TSOI`, in this case), and plots the soil profile. The y-axis shows soil depth and the x-axis shows time. Note that time is currently set for the year 2018. You can change the `year` variable below to plot different years from 2018 through 2020."
   ]
  },
  {
   "cell_type": "code",
   "execution_count": 17,
   "metadata": {},
   "outputs": [
    {
     "name": "stdout",
     "output_type": "stream",
     "text": [
      "All Simulation files: [ 365 files]\n"
     ]
    },
    {
     "name": "stderr",
     "output_type": "stream",
     "text": [
      "100%|██████████| 365/365 [00:20<00:00, 17.64it/s]\n"
     ]
    },
    {
     "name": "stdout",
     "output_type": "stream",
     "text": [
      "Reading all simulation files [ 365 files] took: 33.20257568359375 s.\n",
      "Making this plot took  33.368013858795166 s.\n"
     ]
    },
    {
     "data": {
      "image/png": "[encoded data removed]",
      "text/plain": [
       "<Figure size 1500x500 with 2 Axes>"
      ]
     },
     "metadata": {},
     "output_type": "display_data"
    }
   ],
   "source": [
    "from neon_utils import plot_soil_profile_timeseries\n",
    "sim_path = \"/home/user/archive/\"+neon_site+\".transient/lnd/hist/\"\n",
    "case_name = neon_site+\".transient.clm2\"\n",
    "year = 2018\n",
    "\n",
    "plot_soil_profile_timeseries(sim_path, neon_site, case_name, 'TSOI', year)"
   ]
  },
  {
   "cell_type": "markdown",
   "metadata": {},
   "source": [
    "You might also be interested in the soil moisture at this site. The `plot_soil_profile_timeseries` function can also plot soil moisture (`H2OSOI`). Run the below cell to see the soil moisture profile for 2018. You can change the `year` variable below to plot different years from 2018 through 2020."
   ]
  },
  {
   "cell_type": "code",
   "execution_count": 18,
   "metadata": {},
   "outputs": [
    {
     "name": "stdout",
     "output_type": "stream",
     "text": [
      "All Simulation files: [ 365 files]\n"
     ]
    },
    {
     "name": "stderr",
     "output_type": "stream",
     "text": [
      "100%|██████████| 365/365 [00:19<00:00, 18.81it/s]\n"
     ]
    },
    {
     "name": "stdout",
     "output_type": "stream",
     "text": [
      "Reading all simulation files [ 365 files] took: 31.29600191116333 s.\n",
      "Making this plot took  31.39705777168274 s.\n"
     ]
    },
    {
     "data": {
      "image/png": "[encoded data removed]",
      "text/plain": [
       "<Figure size 1500x500 with 2 Axes>"
      ]
     },
     "metadata": {},
     "output_type": "display_data"
    }
   ],
   "source": [
    "sim_path = \"/home/user/archive/\"+neon_site+\".transient/lnd/hist/\"\n",
    "case_name = neon_site+\".transient.clm2\"\n",
    "year = 2018\n",
    "\n",
    "plot_soil_profile_timeseries(sim_path, neon_site, case_name, 'H2OSOI', year)"
   ]
  },
  {
   "cell_type": "markdown",
   "metadata": {},
   "source": [
    "### Congratulations! \n",
    "You have now completed a NEON tower simulation, located the files, and made a plot from the simulation data.\n",
    "\n",
    "**Additional examples of visualizations and evaluation of your NEON simulation against NEON observations are available in the next tutorial, `NEON_Visualization_Tutorial`.**"
   ]
  },
  {
   "cell_type": "code",
   "execution_count": null,
   "metadata": {},
   "outputs": [],
   "source": []
  }
 ],
 "metadata": {
  "kernelspec": {
   "display_name": "Python [conda env:root] *",
   "language": "python",
   "name": "conda-root-py"
  },
  "language_info": {
   "codemirror_mode": {
    "name": "ipython",
    "version": 3
   },
   "file_extension": ".py",
   "mimetype": "text/x-python",
   "name": "python",
   "nbconvert_exporter": "python",
   "pygments_lexer": "ipython3",
   "version": "3.10.6"
  }
 },
 "nbformat": 4,
 "nbformat_minor": 4
}
